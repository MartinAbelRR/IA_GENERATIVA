{
 "cells": [
  {
   "cell_type": "markdown",
   "id": "bb9f2687",
   "metadata": {},
   "source": [
    "## 1. Descripción General de las Cadenas Utilitarias"
   ]
  },
  {
   "cell_type": "markdown",
   "id": "8494a9b6",
   "metadata": {},
   "source": [
    "### *1.1. Resumir Documentos*"
   ]
  },
  {
   "cell_type": "markdown",
   "id": "5797ba17",
   "metadata": {},
   "source": [
    "`load_summarize_chain`"
   ]
  },
  {
   "cell_type": "code",
   "execution_count": 2,
   "id": "1d4aad4a",
   "metadata": {},
   "outputs": [],
   "source": [
    "from langchain.chains.summarize import load_summarize_chain\n",
    "from langchain.docstore.document import Document\n",
    "from langchain.prompts import PromptTemplate\n",
    "from langchain.text_splitter import CharacterTextSplitter\n",
    "from langchain_openai import ChatOpenAI"
   ]
  },
  {
   "cell_type": "code",
   "execution_count": 3,
   "id": "e5a699ca",
   "metadata": {},
   "outputs": [],
   "source": [
    "llm = ChatOpenAI(model= 'gpt-4o-mini', temperature= 0.9, max_tokens= 300)"
   ]
  },
  {
   "cell_type": "code",
   "execution_count": 5,
   "id": "ae4f64f3",
   "metadata": {},
   "outputs": [],
   "source": [
    "# Leer el documento.\n",
    "with open(\"document/muestra.txt\", \"r\") as file:\n",
    "    data = file.read()"
   ]
  },
  {
   "cell_type": "markdown",
   "id": "9e030228",
   "metadata": {},
   "source": [
    "Cuando se trata del procesamiento de documentos, es esencial dividir un documento grande en trozos más pequeños y manejables."
   ]
  },
  {
   "cell_type": "code",
   "execution_count": 7,
   "id": "a6e05eb4",
   "metadata": {},
   "outputs": [],
   "source": [
    "# Dividir texto.\n",
    "divididor_texto = CharacterTextSplitter(\n",
    "    separator= \"\\n\",\n",
    "    chunk_size= 1000,\n",
    "    chunk_overlap= 200\n",
    ")\n",
    "dividido = divididor_texto.split_text(data)"
   ]
  },
  {
   "cell_type": "code",
   "execution_count": 9,
   "id": "aad5df32",
   "metadata": {},
   "outputs": [],
   "source": [
    "# Crear multiples documentos.\n",
    "documentos = [Document(page_content= page) for page in dividido]"
   ]
  },
  {
   "cell_type": "code",
   "execution_count": 10,
   "id": "46d2ce5e",
   "metadata": {},
   "outputs": [
    {
     "data": {
      "text/plain": [
       "[Document(metadata={}, page_content='India, oficialmente conocida como la República de la India, es un país diverso y vibrante ubicado en el sur de Asia. Con una rica historia milenaria, India es conocida por su patrimonio cultural, diversidad religiosa y vastos paisajes. Desde el majestuoso Himalaya en el norte hasta los serenos remansos de Kerala en el sur, India abarca una amplia gama de accidentes geográficos, incluyendo desiertos, llanuras, montañas y costas, lo que la convierte en una tierra de increíble belleza natural.\\nLa India es el séptimo país más grande del mundo en cuanto a superficie y el segundo más poblado del mundo, con una población que supera los 1.300 millones de personas. Es una república democrática parlamentaria federal, con un presidente como jefe de Estado y un primer ministro como jefe de Gobierno. El país sigue una estructura administrativa de varios niveles, con 28 estados y 9 territorios de la unión, cada uno con su propio gobierno electo.'),\n",
       " Document(metadata={}, page_content='La India posee un rico patrimonio cultural que ha evolucionado a lo largo de miles de años. Es el hogar de varias religiones, entre ellas el hinduismo, el islam, el cristianismo, el sijismo, el budismo y el jainismo, entre otras. Estas religiones coexisten en armonía y contribuyen al tejido multicultural de la India. Festivales como Diwali, Eid, Navidad y Holi se celebran con gran entusiasmo y reúnen a personas de diferentes comunidades.\\nLa historia de la India se caracteriza por civilizaciones antiguas, invasiones y el establecimiento de poderosos imperios. La civilización del valle del Indo, una de las civilizaciones urbanas más antiguas del mundo, floreció en el noroeste del subcontinente indio alrededor del año 2500 a. C. A lo largo de los siglos, la India presenció el auge y la caída de varias dinastías, entre ellas los imperios Maurya, Gupta y Mogol. El período mogol, en particular, dejó una huella imborrable en la cultura, el arte y la arquitectura de la India.'),\n",
       " Document(metadata={}, page_content='La lucha de la India por la independencia del dominio colonial británico es un capítulo importante de su historia. Liderado por Mahatma Gandhi y otros luchadores por la libertad, el movimiento de resistencia no violenta cobró impulso y finalmente condujo a la independencia de la India el 15 de agosto de 1947. Este día se celebra anualmente como el Día de la Independencia.\\nLa economía de la India es una de las que crece más rápidamente en el mundo. Ha pasado de ser una economía agraria a una economía industrializada y orientada a los servicios. El país es conocido por sus servicios de software y tecnología de la información, productos farmacéuticos, textiles, agricultura y sectores manufactureros. Grandes ciudades como Mumbai, Delhi, Bangalore y Chennai son centros de negocios y comercio que atraen inversiones y fomentan la innovación.\\nDelhi es la capital de la India.'),\n",
       " Document(metadata={}, page_content='Delhi es la capital de la India.\\nSin embargo, la India también enfrenta diversos desafíos socioeconómicos. La pobreza, la desigualdad de ingresos y el desempleo son problemas persistentes que el país se esfuerza por abordar. Se están realizando esfuerzos para mejorar la educación, la atención médica, la infraestructura y los programas de bienestar social para ayudar a los sectores marginados de la sociedad.\\nLa educación desempeña un papel vital en la India, con un fuerte énfasis en la excelencia académica. El país cuenta con una amplia red de escuelas, colegios y universidades, que produce un gran número de graduados cada año. Los profesionales indios han realizado contribuciones significativas en diversos campos a nivel mundial, en particular en ciencia, tecnología, ingeniería y matemáticas (STEM).'),\n",
       " Document(metadata={}, page_content='La industria cinematográfica india, conocida popularmente como Bollywood, es un fenómeno global que produce la mayor cantidad de películas al año. El cine indio refleja la diversidad y la riqueza cultural del país y tiene un gran número de seguidores tanto en la India como entre la diáspora india en todo el mundo.\\nLa cocina india es famosa por sus sabores, especias y especialidades regionales. Cada estado tiene sus propias tradiciones culinarias y ofrece una amplia variedad de platos vegetarianos y no vegetarianos. La comida india ha ganado popularidad internacional y platos como el curry, el biryani, el dosa y el tandoori son del agrado de personas de todo el mundo.\\nLa rupia india es la moneda oficial de la República de la India. Se subdivide en 100 paise. Su emisión está controlada por el Banco de la Reserva de la India.\\nEl signo de la rupia india (₹) es el símbolo monetario de la rupia india, la moneda oficial de la India.'),\n",
       " Document(metadata={}, page_content='El signo de la rupia india (₹) es el símbolo monetario de la rupia india, la moneda oficial de la India.\\nEl turismo contribuye de manera importante a la economía de la India. El país atrae a millones de visitantes cada año que vienen a explorar sus sitios históricos, maravillas arquitectónicas, santuarios de vida silvestre y paisajes pintorescos. Lugares emblemáticos como el Taj Mahal, los palacios de Jaipur, los remansos de Kerala y las playas de Goa son destinos turísticos populares.\\nEl patrimonio cultural de la India se conserva en sus monumentos antiguos y sitios declarados Patrimonio de la Humanidad por la UNESCO. Desde las intrincadas tallas de los templos de Khajuraho hasta las majestuosas fortalezas de Rajastán, estas maravillas arquitectónicas reflejan la rica historia y las tradiciones artísticas de la India.'),\n",
       " Document(metadata={}, page_content='La diversidad de la India también se extiende a sus idiomas. Si bien el hindi y el inglés son los idiomas oficiales a nivel nacional, existen 22 idiomas regionales oficialmente reconocidos, entre ellos el bengalí, el tamil, el telugu, el maratí, el urdu, el panyabí y el gujarati, entre otros. Esta diversidad lingüística es testimonio del carácter multicultural de la India.\\nEn los últimos años, la India ha logrado importantes avances en materia de exploración espacial. La Organización de Investigación Espacial de la India (ISRO) ha lanzado con éxito satélites y misiones, incluida la misión Mars Orbiter (MOM), también conocida como Mangalyaan. Estos logros han situado a la India en el selecto grupo de naciones con programas espaciales avanzados.'),\n",
       " Document(metadata={}, page_content='La influencia diplomática de la India también está creciendo en el escenario mundial. El país participa activamente en foros internacionales y mantiene sólidas relaciones bilaterales con naciones de todo el mundo. La India es miembro fundador del Movimiento de Países No Alineados y desempeña un papel activo en varias organizaciones internacionales, como las Naciones Unidas y la Organización Mundial del Comercio.\\nEn conclusión, la India es un país vasto y diverso con un rico patrimonio cultural, paisajes impresionantes y una economía en rápido crecimiento. Es una nación donde las tradiciones antiguas coexisten con las aspiraciones modernas. A pesar de sus desafíos, la India continúa evolucionando y dejando una huella indeleble en el mundo, lo que la convierte en un país fascinante y dinámico para explorar.')]"
      ]
     },
     "execution_count": 10,
     "metadata": {},
     "output_type": "execute_result"
    }
   ],
   "source": [
    "documentos"
   ]
  },
  {
   "cell_type": "markdown",
   "id": "9fa13b81",
   "metadata": {},
   "source": [
    "Para crear una instancia de `load_summarizer_chain`, debemos proporcionar tres argumentos.\n",
    "\n",
    "- En primer lugar, debemos pasar el modelo de lenguaje grande deseado que se utilizará para consultar la entrada del usuario.\n",
    "\n",
    "- En segundo lugar, especificamos el tipo de cadena langchain que se utilizará para resumir documentos.\n",
    "\n",
    "- Por último, podemos establecer el argumento detallado en True si queremos ver todos los pasos intermedios involucrados en el procesamiento de la solicitud del usuario y la generación de la salida."
   ]
  },
  {
   "cell_type": "code",
   "execution_count": 11,
   "id": "8306493b",
   "metadata": {},
   "outputs": [],
   "source": [
    "chain = load_summarize_chain(llm, chain_type= 'map_reduce', verbose= True)"
   ]
  },
  {
   "cell_type": "code",
   "execution_count": 13,
   "id": "3295a1fc",
   "metadata": {},
   "outputs": [
    {
     "name": "stdout",
     "output_type": "stream",
     "text": [
      "\n",
      "\n",
      "\u001b[1m> Entering new MapReduceDocumentsChain chain...\u001b[0m\n",
      "\n",
      "\n",
      "\u001b[1m> Entering new LLMChain chain...\u001b[0m\n",
      "Prompt after formatting:\n",
      "\u001b[32;1m\u001b[1;3mWrite a concise summary of the following:\n",
      "\n",
      "\n",
      "\"India, oficialmente conocida como la República de la India, es un país diverso y vibrante ubicado en el sur de Asia. Con una rica historia milenaria, India es conocida por su patrimonio cultural, diversidad religiosa y vastos paisajes. Desde el majestuoso Himalaya en el norte hasta los serenos remansos de Kerala en el sur, India abarca una amplia gama de accidentes geográficos, incluyendo desiertos, llanuras, montañas y costas, lo que la convierte en una tierra de increíble belleza natural.\n",
      "La India es el séptimo país más grande del mundo en cuanto a superficie y el segundo más poblado del mundo, con una población que supera los 1.300 millones de personas. Es una república democrática parlamentaria federal, con un presidente como jefe de Estado y un primer ministro como jefe de Gobierno. El país sigue una estructura administrativa de varios niveles, con 28 estados y 9 territorios de la unión, cada uno con su propio gobierno electo.\"\n",
      "\n",
      "\n",
      "CONCISE SUMMARY:\u001b[0m\n",
      "Prompt after formatting:\n",
      "\u001b[32;1m\u001b[1;3mWrite a concise summary of the following:\n",
      "\n",
      "\n",
      "\"La India posee un rico patrimonio cultural que ha evolucionado a lo largo de miles de años. Es el hogar de varias religiones, entre ellas el hinduismo, el islam, el cristianismo, el sijismo, el budismo y el jainismo, entre otras. Estas religiones coexisten en armonía y contribuyen al tejido multicultural de la India. Festivales como Diwali, Eid, Navidad y Holi se celebran con gran entusiasmo y reúnen a personas de diferentes comunidades.\n",
      "La historia de la India se caracteriza por civilizaciones antiguas, invasiones y el establecimiento de poderosos imperios. La civilización del valle del Indo, una de las civilizaciones urbanas más antiguas del mundo, floreció en el noroeste del subcontinente indio alrededor del año 2500 a. C. A lo largo de los siglos, la India presenció el auge y la caída de varias dinastías, entre ellas los imperios Maurya, Gupta y Mogol. El período mogol, en particular, dejó una huella imborrable en la cultura, el arte y la arquitectura de la India.\"\n",
      "\n",
      "\n",
      "CONCISE SUMMARY:\u001b[0m\n",
      "Prompt after formatting:\n",
      "\u001b[32;1m\u001b[1;3mWrite a concise summary of the following:\n",
      "\n",
      "\n",
      "\"La lucha de la India por la independencia del dominio colonial británico es un capítulo importante de su historia. Liderado por Mahatma Gandhi y otros luchadores por la libertad, el movimiento de resistencia no violenta cobró impulso y finalmente condujo a la independencia de la India el 15 de agosto de 1947. Este día se celebra anualmente como el Día de la Independencia.\n",
      "La economía de la India es una de las que crece más rápidamente en el mundo. Ha pasado de ser una economía agraria a una economía industrializada y orientada a los servicios. El país es conocido por sus servicios de software y tecnología de la información, productos farmacéuticos, textiles, agricultura y sectores manufactureros. Grandes ciudades como Mumbai, Delhi, Bangalore y Chennai son centros de negocios y comercio que atraen inversiones y fomentan la innovación.\n",
      "Delhi es la capital de la India.\"\n",
      "\n",
      "\n",
      "CONCISE SUMMARY:\u001b[0m\n",
      "Prompt after formatting:\n",
      "\u001b[32;1m\u001b[1;3mWrite a concise summary of the following:\n",
      "\n",
      "\n",
      "\"Delhi es la capital de la India.\n",
      "Sin embargo, la India también enfrenta diversos desafíos socioeconómicos. La pobreza, la desigualdad de ingresos y el desempleo son problemas persistentes que el país se esfuerza por abordar. Se están realizando esfuerzos para mejorar la educación, la atención médica, la infraestructura y los programas de bienestar social para ayudar a los sectores marginados de la sociedad.\n",
      "La educación desempeña un papel vital en la India, con un fuerte énfasis en la excelencia académica. El país cuenta con una amplia red de escuelas, colegios y universidades, que produce un gran número de graduados cada año. Los profesionales indios han realizado contribuciones significativas en diversos campos a nivel mundial, en particular en ciencia, tecnología, ingeniería y matemáticas (STEM).\"\n",
      "\n",
      "\n",
      "CONCISE SUMMARY:\u001b[0m\n",
      "Prompt after formatting:\n",
      "\u001b[32;1m\u001b[1;3mWrite a concise summary of the following:\n",
      "\n",
      "\n",
      "\"La industria cinematográfica india, conocida popularmente como Bollywood, es un fenómeno global que produce la mayor cantidad de películas al año. El cine indio refleja la diversidad y la riqueza cultural del país y tiene un gran número de seguidores tanto en la India como entre la diáspora india en todo el mundo.\n",
      "La cocina india es famosa por sus sabores, especias y especialidades regionales. Cada estado tiene sus propias tradiciones culinarias y ofrece una amplia variedad de platos vegetarianos y no vegetarianos. La comida india ha ganado popularidad internacional y platos como el curry, el biryani, el dosa y el tandoori son del agrado de personas de todo el mundo.\n",
      "La rupia india es la moneda oficial de la República de la India. Se subdivide en 100 paise. Su emisión está controlada por el Banco de la Reserva de la India.\n",
      "El signo de la rupia india (₹) es el símbolo monetario de la rupia india, la moneda oficial de la India.\"\n",
      "\n",
      "\n",
      "CONCISE SUMMARY:\u001b[0m\n",
      "Prompt after formatting:\n",
      "\u001b[32;1m\u001b[1;3mWrite a concise summary of the following:\n",
      "\n",
      "\n",
      "\"El signo de la rupia india (₹) es el símbolo monetario de la rupia india, la moneda oficial de la India.\n",
      "El turismo contribuye de manera importante a la economía de la India. El país atrae a millones de visitantes cada año que vienen a explorar sus sitios históricos, maravillas arquitectónicas, santuarios de vida silvestre y paisajes pintorescos. Lugares emblemáticos como el Taj Mahal, los palacios de Jaipur, los remansos de Kerala y las playas de Goa son destinos turísticos populares.\n",
      "El patrimonio cultural de la India se conserva en sus monumentos antiguos y sitios declarados Patrimonio de la Humanidad por la UNESCO. Desde las intrincadas tallas de los templos de Khajuraho hasta las majestuosas fortalezas de Rajastán, estas maravillas arquitectónicas reflejan la rica historia y las tradiciones artísticas de la India.\"\n",
      "\n",
      "\n",
      "CONCISE SUMMARY:\u001b[0m\n",
      "Prompt after formatting:\n",
      "\u001b[32;1m\u001b[1;3mWrite a concise summary of the following:\n",
      "\n",
      "\n",
      "\"La diversidad de la India también se extiende a sus idiomas. Si bien el hindi y el inglés son los idiomas oficiales a nivel nacional, existen 22 idiomas regionales oficialmente reconocidos, entre ellos el bengalí, el tamil, el telugu, el maratí, el urdu, el panyabí y el gujarati, entre otros. Esta diversidad lingüística es testimonio del carácter multicultural de la India.\n",
      "En los últimos años, la India ha logrado importantes avances en materia de exploración espacial. La Organización de Investigación Espacial de la India (ISRO) ha lanzado con éxito satélites y misiones, incluida la misión Mars Orbiter (MOM), también conocida como Mangalyaan. Estos logros han situado a la India en el selecto grupo de naciones con programas espaciales avanzados.\"\n",
      "\n",
      "\n",
      "CONCISE SUMMARY:\u001b[0m\n",
      "Prompt after formatting:\n",
      "\u001b[32;1m\u001b[1;3mWrite a concise summary of the following:\n",
      "\n",
      "\n",
      "\"La influencia diplomática de la India también está creciendo en el escenario mundial. El país participa activamente en foros internacionales y mantiene sólidas relaciones bilaterales con naciones de todo el mundo. La India es miembro fundador del Movimiento de Países No Alineados y desempeña un papel activo en varias organizaciones internacionales, como las Naciones Unidas y la Organización Mundial del Comercio.\n",
      "En conclusión, la India es un país vasto y diverso con un rico patrimonio cultural, paisajes impresionantes y una economía en rápido crecimiento. Es una nación donde las tradiciones antiguas coexisten con las aspiraciones modernas. A pesar de sus desafíos, la India continúa evolucionando y dejando una huella indeleble en el mundo, lo que la convierte en un país fascinante y dinámico para explorar.\"\n",
      "\n",
      "\n",
      "CONCISE SUMMARY:\u001b[0m\n",
      "\n",
      "\u001b[1m> Finished chain.\u001b[0m\n",
      "\n",
      "\n",
      "\u001b[1m> Entering new LLMChain chain...\u001b[0m\n",
      "Prompt after formatting:\n",
      "\u001b[32;1m\u001b[1;3mWrite a concise summary of the following:\n",
      "\n",
      "\n",
      "\"India, oficialmente la República de la India, es un país diverso en el sur de Asia con una rica historia y patrimonio cultural. Con paisajes que varían desde los Himalayas hasta los remansos de Kerala, es el séptimo país más grande y el segundo más poblado del mundo, con más de 1.300 millones de habitantes. India es una república democrática parlamentaria federal, compuesta por 28 estados y 9 territorios de la unión, cada uno con su propio gobierno electo.\n",
      "\n",
      "India has a rich cultural heritage shaped over thousands of years, home to multiple religions including Hinduism, Islam, Christianity, Sikhism, Buddhism, and Jainism, which coexist harmoniously. Celebrations such as Diwali, Eid, Christmas, and Holi foster unity among diverse communities. The country's history features ancient civilizations, invasions, and powerful empires, notably the Indus Valley Civilization around 2500 B.C., and significant dynasties like the Maurya, Gupta, and Mughal. The Mughal era notably influenced India's culture, art, and architecture.\n",
      "\n",
      "La lucha de la India por la independencia del dominio británico, liderada por Mahatma Gandhi, culminó el 15 de agosto de 1947, que se celebra como el Día de la Independencia. Actualmente, la economía india es una de las de más rápido crecimiento a nivel mundial, habiendo pasado de ser agraria a industrializada y orientada a servicios, destacándose en software, tecnología, farmacéuticos, textiles y manufactura. Mumbai, Delhi, Bangalore y Chennai son importantes centros de negocios. Delhi es la capital del país.\n",
      "\n",
      "Delhi es la capital de India, que enfrenta desafíos socioeconómicos como la pobreza, la desigualdad de ingresos y el desempleo. Se están llevando a cabo esfuerzos para mejorar la educación, la atención médica y la infraestructura, con un enfoque en ayudar a los sectores marginados. La educación es crucial, y el país cuenta con una extensa red educativa que produce muchos graduados, especialmente en campos STEM, donde los profesionales indios han hecho importantes contribuciones a nivel mundial.\n",
      "\n",
      "La industria cinematográfica india, conocida como Bollywood, es un fenómeno global que produce la mayor cantidad de películas anualmente, reflejando la diversidad cultural del país y atrayendo a numerosos seguidores. La cocina india es famosa por sus sabores y variedades regionales, con platos como curry y biryani que han ganado popularidad internacional. La rupia india (₹) es la moneda oficial del país, controlada por el Banco de la Reserva de la India y subdividida en 100 paise.\n",
      "\n",
      "El signo de la rupia india (₹) representa la moneda oficial de India, que recibe millones de turistas anualmente. Este turismo es crucial para la economía del país, con visitantes atraídos por sitios históricos y naturales como el Taj Mahal, los palacios de Jaipur, los remansos de Kerala y las playas de Goa. La rica herencia cultural de India se manifiesta en monumentos antiguos y sitios de la UNESCO, como las tallas de Khajuraho y las fortalezas de Rajastán.\n",
      "\n",
      "La diversidad de India se refleja en sus idiomas, con el hindi y el inglés como oficiales y 22 lenguas regionales reconocidas, como el bengalí y el tamil. Además, la India ha hecho importantes avances en exploración espacial a través de la Organización de Investigación Espacial de la India (ISRO), destacándose la misión Mars Orbiter (Mangalyaan) que la posiciona entre las naciones con programas espaciales avanzados.\n",
      "\n",
      "La influencia diplomática de India está en aumento a nivel global, participando activamente en foros internacionales y manteniendo relaciones bilaterales sólidas. Como miembro fundador del Movimiento de Países No Alineados, India juega un papel significativo en organizaciones como la ONU y la OMC. Con su diversidad cultural, impresionantes paisajes y una economía en rápido crecimiento, India combina tradiciones antiguas con aspiraciones modernas, continuando su evolución y dejando una huella notable en el mundo.\"\n",
      "\n",
      "\n",
      "CONCISE SUMMARY:\u001b[0m\n",
      "\n",
      "\u001b[1m> Finished chain.\u001b[0m\n",
      "\n",
      "\u001b[1m> Finished chain.\u001b[0m\n"
     ]
    },
    {
     "data": {
      "text/plain": [
       "{'input_documents': [Document(metadata={}, page_content='India, oficialmente conocida como la República de la India, es un país diverso y vibrante ubicado en el sur de Asia. Con una rica historia milenaria, India es conocida por su patrimonio cultural, diversidad religiosa y vastos paisajes. Desde el majestuoso Himalaya en el norte hasta los serenos remansos de Kerala en el sur, India abarca una amplia gama de accidentes geográficos, incluyendo desiertos, llanuras, montañas y costas, lo que la convierte en una tierra de increíble belleza natural.\\nLa India es el séptimo país más grande del mundo en cuanto a superficie y el segundo más poblado del mundo, con una población que supera los 1.300 millones de personas. Es una república democrática parlamentaria federal, con un presidente como jefe de Estado y un primer ministro como jefe de Gobierno. El país sigue una estructura administrativa de varios niveles, con 28 estados y 9 territorios de la unión, cada uno con su propio gobierno electo.'),\n",
       "  Document(metadata={}, page_content='La India posee un rico patrimonio cultural que ha evolucionado a lo largo de miles de años. Es el hogar de varias religiones, entre ellas el hinduismo, el islam, el cristianismo, el sijismo, el budismo y el jainismo, entre otras. Estas religiones coexisten en armonía y contribuyen al tejido multicultural de la India. Festivales como Diwali, Eid, Navidad y Holi se celebran con gran entusiasmo y reúnen a personas de diferentes comunidades.\\nLa historia de la India se caracteriza por civilizaciones antiguas, invasiones y el establecimiento de poderosos imperios. La civilización del valle del Indo, una de las civilizaciones urbanas más antiguas del mundo, floreció en el noroeste del subcontinente indio alrededor del año 2500 a. C. A lo largo de los siglos, la India presenció el auge y la caída de varias dinastías, entre ellas los imperios Maurya, Gupta y Mogol. El período mogol, en particular, dejó una huella imborrable en la cultura, el arte y la arquitectura de la India.'),\n",
       "  Document(metadata={}, page_content='La lucha de la India por la independencia del dominio colonial británico es un capítulo importante de su historia. Liderado por Mahatma Gandhi y otros luchadores por la libertad, el movimiento de resistencia no violenta cobró impulso y finalmente condujo a la independencia de la India el 15 de agosto de 1947. Este día se celebra anualmente como el Día de la Independencia.\\nLa economía de la India es una de las que crece más rápidamente en el mundo. Ha pasado de ser una economía agraria a una economía industrializada y orientada a los servicios. El país es conocido por sus servicios de software y tecnología de la información, productos farmacéuticos, textiles, agricultura y sectores manufactureros. Grandes ciudades como Mumbai, Delhi, Bangalore y Chennai son centros de negocios y comercio que atraen inversiones y fomentan la innovación.\\nDelhi es la capital de la India.'),\n",
       "  Document(metadata={}, page_content='Delhi es la capital de la India.\\nSin embargo, la India también enfrenta diversos desafíos socioeconómicos. La pobreza, la desigualdad de ingresos y el desempleo son problemas persistentes que el país se esfuerza por abordar. Se están realizando esfuerzos para mejorar la educación, la atención médica, la infraestructura y los programas de bienestar social para ayudar a los sectores marginados de la sociedad.\\nLa educación desempeña un papel vital en la India, con un fuerte énfasis en la excelencia académica. El país cuenta con una amplia red de escuelas, colegios y universidades, que produce un gran número de graduados cada año. Los profesionales indios han realizado contribuciones significativas en diversos campos a nivel mundial, en particular en ciencia, tecnología, ingeniería y matemáticas (STEM).'),\n",
       "  Document(metadata={}, page_content='La industria cinematográfica india, conocida popularmente como Bollywood, es un fenómeno global que produce la mayor cantidad de películas al año. El cine indio refleja la diversidad y la riqueza cultural del país y tiene un gran número de seguidores tanto en la India como entre la diáspora india en todo el mundo.\\nLa cocina india es famosa por sus sabores, especias y especialidades regionales. Cada estado tiene sus propias tradiciones culinarias y ofrece una amplia variedad de platos vegetarianos y no vegetarianos. La comida india ha ganado popularidad internacional y platos como el curry, el biryani, el dosa y el tandoori son del agrado de personas de todo el mundo.\\nLa rupia india es la moneda oficial de la República de la India. Se subdivide en 100 paise. Su emisión está controlada por el Banco de la Reserva de la India.\\nEl signo de la rupia india (₹) es el símbolo monetario de la rupia india, la moneda oficial de la India.'),\n",
       "  Document(metadata={}, page_content='El signo de la rupia india (₹) es el símbolo monetario de la rupia india, la moneda oficial de la India.\\nEl turismo contribuye de manera importante a la economía de la India. El país atrae a millones de visitantes cada año que vienen a explorar sus sitios históricos, maravillas arquitectónicas, santuarios de vida silvestre y paisajes pintorescos. Lugares emblemáticos como el Taj Mahal, los palacios de Jaipur, los remansos de Kerala y las playas de Goa son destinos turísticos populares.\\nEl patrimonio cultural de la India se conserva en sus monumentos antiguos y sitios declarados Patrimonio de la Humanidad por la UNESCO. Desde las intrincadas tallas de los templos de Khajuraho hasta las majestuosas fortalezas de Rajastán, estas maravillas arquitectónicas reflejan la rica historia y las tradiciones artísticas de la India.'),\n",
       "  Document(metadata={}, page_content='La diversidad de la India también se extiende a sus idiomas. Si bien el hindi y el inglés son los idiomas oficiales a nivel nacional, existen 22 idiomas regionales oficialmente reconocidos, entre ellos el bengalí, el tamil, el telugu, el maratí, el urdu, el panyabí y el gujarati, entre otros. Esta diversidad lingüística es testimonio del carácter multicultural de la India.\\nEn los últimos años, la India ha logrado importantes avances en materia de exploración espacial. La Organización de Investigación Espacial de la India (ISRO) ha lanzado con éxito satélites y misiones, incluida la misión Mars Orbiter (MOM), también conocida como Mangalyaan. Estos logros han situado a la India en el selecto grupo de naciones con programas espaciales avanzados.'),\n",
       "  Document(metadata={}, page_content='La influencia diplomática de la India también está creciendo en el escenario mundial. El país participa activamente en foros internacionales y mantiene sólidas relaciones bilaterales con naciones de todo el mundo. La India es miembro fundador del Movimiento de Países No Alineados y desempeña un papel activo en varias organizaciones internacionales, como las Naciones Unidas y la Organización Mundial del Comercio.\\nEn conclusión, la India es un país vasto y diverso con un rico patrimonio cultural, paisajes impresionantes y una economía en rápido crecimiento. Es una nación donde las tradiciones antiguas coexisten con las aspiraciones modernas. A pesar de sus desafíos, la India continúa evolucionando y dejando una huella indeleble en el mundo, lo que la convierte en un país fascinante y dinámico para explorar.')],\n",
       " 'output_text': \"India, officially the Republic of India, is a diverse country in South Asia known for its rich cultural heritage and history. It is the seventh-largest and second-most populous nation, with over 1.3 billion people. Comprising 28 states and 9 union territories, India is a federal parliamentary democracy. The country is home to multiple religions and celebrates various festivals that promote unity.\\n\\nHistorically significant civilizations and empires, such as the Indus Valley and the Mughal Empire, have shaped its culture and architecture. India gained independence from British rule on August 15, 1947, led by Mahatma Gandhi. Its economy is one of the fastest-growing globally, transitioning from agrarian to industrial and service-oriented sectors, with major cities like Delhi, Mumbai, Bangalore, and Chennai serving as business hubs.\\n\\nIndia faces socio-economic challenges, but ongoing efforts aim to improve education, healthcare, and infrastructure, particularly for marginalized communities. The film industry, Bollywood, and its diverse cuisine are internationally recognized. The Indian rupee (₹) is the official currency, and tourism plays a vital role in the economy, attracting millions to historical sites and natural attractions.\\n\\nIndia's linguistic diversity includes Hindi and English as official languages, along with 22 recognized regional languages. It has made significant advancements in space exploration and maintains a growing influence in international diplomacy. With a blend of ancient traditions and modern aspirations, India continues to evolve and impact the global stage.\"}"
      ]
     },
     "execution_count": 13,
     "metadata": {},
     "output_type": "execute_result"
    }
   ],
   "source": [
    "chain.invoke(documentos)"
   ]
  },
  {
   "cell_type": "markdown",
   "id": "bbe76840",
   "metadata": {},
   "source": [
    "### *1.2. Solicitudes HTTP*"
   ]
  },
  {
   "cell_type": "markdown",
   "id": "1f1f6110",
   "metadata": {},
   "source": [
    "`LLMRequestChain`"
   ]
  },
  {
   "cell_type": "code",
   "execution_count": 14,
   "id": "b7760ddb",
   "metadata": {},
   "outputs": [],
   "source": [
    "from langchain.chains import LLMRequestsChain, LLMChain"
   ]
  },
  {
   "cell_type": "code",
   "execution_count": 20,
   "id": "0d4406c2",
   "metadata": {},
   "outputs": [],
   "source": [
    "plantilla = \"\"\"\n",
    "Extrae la respuesta a la pregunta '{consulta}' o di \"No encontrado\" si la información no esta disponible.\n",
    "{requests_result}\n",
    "\"\"\"\n",
    "\n",
    "indicacion_plantilla = PromptTemplate(\n",
    "    input_variables= ['consulta', 'requests_result'],\n",
    "    template= plantilla\n",
    ")"
   ]
  },
  {
   "cell_type": "code",
   "execution_count": 21,
   "id": "50265079",
   "metadata": {},
   "outputs": [],
   "source": [
    "chain = LLMRequestsChain(llm_chain= LLMChain(llm= llm, prompt= indicacion_plantilla))"
   ]
  },
  {
   "cell_type": "markdown",
   "id": "6a3c944e",
   "metadata": {},
   "source": [
    "Prepara la pregunta y entrada para la solicitud HTTP."
   ]
  },
  {
   "cell_type": "code",
   "execution_count": 22,
   "id": "5f4ab811",
   "metadata": {},
   "outputs": [],
   "source": [
    "pregunta = '¿Cuál es la capital de Perú?'\n",
    "entradas = {\n",
    "    'consulta': pregunta,\n",
    "    \"url\": \"https://www.google.com/search?q=\" + pregunta.replace(\" \", \"+\")\n",
    "} "
   ]
  },
  {
   "cell_type": "code",
   "execution_count": 23,
   "id": "f7407224",
   "metadata": {},
   "outputs": [
    {
     "data": {
      "text/plain": [
       "{'consulta': '¿Cuál es la capital de Perú?',\n",
       " 'url': 'https://www.google.com/search?q=¿Cuál+es+la+capital+de+Perú?',\n",
       " 'output': 'La capital de Perú es Lima.'}"
      ]
     },
     "execution_count": 23,
     "metadata": {},
     "output_type": "execute_result"
    }
   ],
   "source": [
    "chain.invoke(entradas)"
   ]
  },
  {
   "cell_type": "code",
   "execution_count": 24,
   "id": "5318bed6",
   "metadata": {},
   "outputs": [
    {
     "name": "stdout",
     "output_type": "stream",
     "text": [
      "    def _call(\n",
      "        self,\n",
      "        inputs: Dict[str, Any],\n",
      "        run_manager: Optional[CallbackManagerForChainRun] = None,\n",
      "    ) -> Dict[str, Any]:\n",
      "        from bs4 import BeautifulSoup\n",
      "\n",
      "        _run_manager = run_manager or CallbackManagerForChainRun.get_noop_manager()\n",
      "        # Other keys are assumed to be needed for LLM prediction\n",
      "        other_keys = {k: v for k, v in inputs.items() if k != self.input_key}\n",
      "        url = inputs[self.input_key]\n",
      "        res = self.requests_wrapper.get(url)\n",
      "        # extract the text from the html\n",
      "        soup = BeautifulSoup(res, \"html.parser\")\n",
      "        other_keys[self.requests_key] = soup.get_text()[: self.text_length]\n",
      "        result = self.llm_chain.predict(  # type: ignore[attr-defined]\n",
      "            callbacks=_run_manager.get_child(), **other_keys\n",
      "        )\n",
      "        return {self.output_key: result}\n",
      "\n"
     ]
    }
   ],
   "source": [
    "# Veamos el interno funcionamiento de la cadena.\n",
    "import inspect\n",
    "print(inspect.getsource(chain._call))"
   ]
  },
  {
   "cell_type": "code",
   "execution_count": null,
   "id": "c90ca193",
   "metadata": {},
   "outputs": [],
   "source": []
  }
 ],
 "metadata": {
  "kernelspec": {
   "display_name": "langchain",
   "language": "python",
   "name": "python3"
  },
  "language_info": {
   "codemirror_mode": {
    "name": "ipython",
    "version": 3
   },
   "file_extension": ".py",
   "mimetype": "text/x-python",
   "name": "python",
   "nbconvert_exporter": "python",
   "pygments_lexer": "ipython3",
   "version": "3.10.16"
  }
 },
 "nbformat": 4,
 "nbformat_minor": 5
}
