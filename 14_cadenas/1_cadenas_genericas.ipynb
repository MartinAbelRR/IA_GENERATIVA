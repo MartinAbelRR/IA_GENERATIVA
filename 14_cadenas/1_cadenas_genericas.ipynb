{
 "cells": [
  {
   "cell_type": "markdown",
   "id": "e20adcf4",
   "metadata": {},
   "source": [
    "## 1. Descripción General de las Cadenas Genéricas"
   ]
  },
  {
   "cell_type": "markdown",
   "id": "4f41bf8f",
   "metadata": {},
   "source": [
    "### *1.1. Cadena Simple*"
   ]
  },
  {
   "cell_type": "markdown",
   "id": "ff3c18d1",
   "metadata": {},
   "source": [
    "El tipo de cadena más elemental se conoce como **cadena básica**, que representa la forma más simple de crear una cadena. \n",
    "\n",
    "En esta configuración, solo *hay un Modelo de Lenguaje* (LLM) responsable de **recibir un mensaje de entrada** y usarlo para generar texto."
   ]
  },
  {
   "cell_type": "code",
   "execution_count": 139,
   "id": "71a047d3",
   "metadata": {},
   "outputs": [],
   "source": [
    "from langchain.prompts import PromptTemplate\n",
    "from langchain.chains import LLMChain # Depreciado.\n",
    "\n",
    "from langchain_openai import ChatOpenAI"
   ]
  },
  {
   "cell_type": "code",
   "execution_count": 183,
   "id": "a743a96e",
   "metadata": {},
   "outputs": [],
   "source": [
    "llm = ChatOpenAI(model= 'gpt-4o-mini', temperature= 0.6, max_tokens= 300)"
   ]
  },
  {
   "cell_type": "code",
   "execution_count": 184,
   "id": "d648bbe0",
   "metadata": {},
   "outputs": [],
   "source": [
    "indicacion = PromptTemplate(\n",
    "    input_variables= ['lugar'],\n",
    "    template= 'Mejor lugar para visitar en {lugar}?'\n",
    ")"
   ]
  },
  {
   "cell_type": "code",
   "execution_count": 185,
   "id": "1d82a9e4",
   "metadata": {},
   "outputs": [],
   "source": [
    "chain = LLMChain(prompt= indicacion, llm= llm)"
   ]
  },
  {
   "cell_type": "code",
   "execution_count": 186,
   "id": "d424a2f2",
   "metadata": {},
   "outputs": [
    {
     "name": "stdout",
     "output_type": "stream",
     "text": [
      "{'lugar': 'India', 'text': 'India es un país vasto y diverso, lleno de lugares fascinantes para visitar. Aquí te dejo algunos de los mejores destinos:\\n\\n1. **Taj Mahal (Agra)**: Este icónico mausoleo es una de las Siete Maravillas del Mundo y un símbolo del amor. Su arquitectura y belleza son impresionantes.\\n\\n2. **Jaipur (Rajasthan)**: Conocida como la \"Ciudad Rosa\", Jaipur ofrece palacios majestuosos como el Hawa Mahal y el Fuerte Amber, además de un rico patrimonio cultural.\\n\\n3. **Varanasi**: Una de las ciudades más antiguas del mundo, situada a orillas del río Ganges. Es un importante centro espiritual y ofrece una experiencia única con sus ceremonias y rituales.\\n\\n4. **Kerala**: Conocida como \"el país de los dioses\", Kerala es famosa por sus paisajes de arrozales, sus casas flotantes en los backwaters y su cultura ayurvédica.\\n\\n5. **Goa**: Famosa por sus playas y su ambiente relajado, Goa es ideal para disfrutar del sol, la playa y la vida nocturna.\\n\\n6. **Ladakh**: Con paisajes montañosos impresionantes y una cultura budista rica, Ladakh es un destino perfecto para los amantes de la aventura y la naturaleza.\\n\\n7. **Rishikesh y Haridwar**: Estas ciudades a orillas del Ganges son centros'}\n"
     ]
    }
   ],
   "source": [
    "# EJecutamos la cadena solo especificando el lugar.\n",
    "print(chain.invoke('India'))"
   ]
  },
  {
   "cell_type": "markdown",
   "id": "e4ea70d8",
   "metadata": {},
   "source": [
    "### *1.2. Cadena Simple Secuencia*"
   ]
  },
  {
   "cell_type": "markdown",
   "id": "2ef8d49a",
   "metadata": {},
   "source": [
    "`Cadenas secuenciales` implica hacer una serie de llamadas consecutivas al modelo de lenguaje.\n",
    "\n",
    "Este enfoque resulta especialmente valioso cuando existe la necesidad de utilizar la salida generada a partir de una llamada como entrada para otra llamada."
   ]
  },
  {
   "cell_type": "code",
   "execution_count": 187,
   "id": "ff83bd34",
   "metadata": {},
   "outputs": [],
   "source": [
    "from langchain.chains import SimpleSequentialChain\n",
    "from langchain_huggingface import HuggingFaceEndpoint"
   ]
  },
  {
   "cell_type": "code",
   "execution_count": 188,
   "id": "5106e694",
   "metadata": {},
   "outputs": [],
   "source": [
    "plantilla = \"\"\"En español, Sugiereme 5 mejores lugares para visitar en {lugar}\n",
    "Tu respuesta:\"\"\"\n",
    "\n",
    "indicacion_plantilla = PromptTemplate(\n",
    "    input_variables= ['lugar'],\n",
    "    template= plantilla\n",
    ")"
   ]
  },
  {
   "cell_type": "code",
   "execution_count": 189,
   "id": "0f4fc579",
   "metadata": {},
   "outputs": [],
   "source": [
    "# hf_llm = HuggingFaceEndpoint(repo_id= 'mistralai/Mistral-7B-Instruct-v0.2', max_new_tokens= 100)"
   ]
  },
  {
   "cell_type": "code",
   "execution_count": 190,
   "id": "179e12d6",
   "metadata": {},
   "outputs": [],
   "source": [
    "lugar_chain = LLMChain(prompt= indicacion_plantilla, llm= llm)"
   ]
  },
  {
   "cell_type": "code",
   "execution_count": 191,
   "id": "9b8a9173",
   "metadata": {},
   "outputs": [],
   "source": [
    "plantilla = \"\"\"Dada una lista de lugares, calcule un promedio de los gastos para visitarlos todos en moneda local y también los días necesarios \n",
    "{gastos}\n",
    "Tu respuesta:\"\"\"\n",
    "\n",
    "indicacion_plantilla = PromptTemplate(\n",
    "    input_variables= ['gastos'],\n",
    "    template= plantilla\n",
    ")"
   ]
  },
  {
   "cell_type": "code",
   "execution_count": 192,
   "id": "014b2721",
   "metadata": {},
   "outputs": [],
   "source": [
    "gastos_chain = LLMChain(prompt= indicacion_plantilla, llm= llm)"
   ]
  },
  {
   "cell_type": "code",
   "execution_count": 193,
   "id": "4c15b199",
   "metadata": {},
   "outputs": [],
   "source": [
    "final_chain = SimpleSequentialChain(\n",
    "    chains= [lugar_chain, gastos_chain],\n",
    "    verbose= True\n",
    ")"
   ]
  },
  {
   "cell_type": "code",
   "execution_count": 194,
   "id": "9121c7d0",
   "metadata": {},
   "outputs": [
    {
     "name": "stdout",
     "output_type": "stream",
     "text": [
      "\n",
      "\n",
      "\u001b[1m> Entering new SimpleSequentialChain chain...\u001b[0m\n",
      "\u001b[36;1m\u001b[1;3m¡Claro! Aquí tienes cinco de los mejores lugares para visitar en India:\n",
      "\n",
      "1. **Taj Mahal, Agra**: Este icónico mausoleo de mármol blanco es una de las Siete Maravillas del Mundo y un símbolo del amor eterno. Su impresionante arquitectura y hermosos jardines lo convierten en un destino imperdible.\n",
      "\n",
      "2. **Jaipur, Rajasthan**: Conocida como la \"Ciudad Rosa\", Jaipur es famosa por sus palacios y fortalezas históricas, como el Fuerte Amber, el Palacio de la Ciudad y el Hawa Mahal. La vibrante cultura y la artesanía local son también un gran atractivo.\n",
      "\n",
      "3. **Varanasi, Uttar Pradesh**: Considerada una de las ciudades más antiguas del mundo, Varanasi es un importante centro espiritual y de peregrinación. Las ceremonias a orillas del río Ganges y los ghats son experiencias únicas que reflejan la rica cultura india.\n",
      "\n",
      "4. **Kerala**: Conocida como \"El país de los dioses\", Kerala es famosa por sus paisajes naturales, canales y casas flotantes. Disfrutar de un viaje en barco por los backwaters de Alleppey o explorar las plantaciones de té en Munnar son actividades imperdibles.\n",
      "\n",
      "5. **Goa**: Famosa por sus hermosas playas, Goa es un destino popular tanto para turistas nacionales como internacionales. Además de sus playas, también ofrece una rica her\u001b[0m\n",
      "\u001b[33;1m\u001b[1;3mPara calcular un promedio de gastos y días necesarios para visitar los lugares mencionados en India, primero necesitamos estimar los costos y el tiempo que podría llevar visitar cada lugar. A continuación, se presentan estimaciones aproximadas:\n",
      "\n",
      "### Estimaciones de Gastos y Días\n",
      "\n",
      "1. **Taj Mahal, Agra**\n",
      "   - **Gastos**: $25 (entrada, transporte, comida)\n",
      "   - **Días**: 1 día\n",
      "\n",
      "2. **Jaipur, Rajasthan**\n",
      "   - **Gastos**: $50 (entrada a palacios, transporte, comida)\n",
      "   - **Días**: 2 días\n",
      "\n",
      "3. **Varanasi, Uttar Pradesh**\n",
      "   - **Gastos**: $30 (transporte, comida, actividades)\n",
      "   - **Días**: 2 días\n",
      "\n",
      "4. **Kerala**\n",
      "   - **Gastos**: $70 (paseo en barco, comida, alojamiento)\n",
      "   - **Días**: 3 días\n",
      "\n",
      "5. **Goa**\n",
      "   - **Gastos**: $60 (playas, actividades, comida, alojamiento)\n",
      "   - **Días**: 3 días\n",
      "\n",
      "### Resumen de Gastos y Días\n",
      "\n",
      "- **Total de gastos**: \n",
      "  - Taj Mahal: $25\n",
      "  - Jaipur: $50\n",
      "  - Varanasi: $30\n",
      "  - Kerala: $70\n",
      "  - Goa: $60\n",
      "  - **\u001b[0m\n",
      "\n",
      "\u001b[1m> Finished chain.\u001b[0m\n"
     ]
    }
   ],
   "source": [
    "resenia = final_chain.invoke('India')"
   ]
  },
  {
   "cell_type": "code",
   "execution_count": 195,
   "id": "f3e69fd1",
   "metadata": {},
   "outputs": [
    {
     "data": {
      "text/plain": [
       "{'input': 'India',\n",
       " 'output': 'Para calcular un promedio de gastos y días necesarios para visitar los lugares mencionados en India, primero necesitamos estimar los costos y el tiempo que podría llevar visitar cada lugar. A continuación, se presentan estimaciones aproximadas:\\n\\n### Estimaciones de Gastos y Días\\n\\n1. **Taj Mahal, Agra**\\n   - **Gastos**: $25 (entrada, transporte, comida)\\n   - **Días**: 1 día\\n\\n2. **Jaipur, Rajasthan**\\n   - **Gastos**: $50 (entrada a palacios, transporte, comida)\\n   - **Días**: 2 días\\n\\n3. **Varanasi, Uttar Pradesh**\\n   - **Gastos**: $30 (transporte, comida, actividades)\\n   - **Días**: 2 días\\n\\n4. **Kerala**\\n   - **Gastos**: $70 (paseo en barco, comida, alojamiento)\\n   - **Días**: 3 días\\n\\n5. **Goa**\\n   - **Gastos**: $60 (playas, actividades, comida, alojamiento)\\n   - **Días**: 3 días\\n\\n### Resumen de Gastos y Días\\n\\n- **Total de gastos**: \\n  - Taj Mahal: $25\\n  - Jaipur: $50\\n  - Varanasi: $30\\n  - Kerala: $70\\n  - Goa: $60\\n  - **'}"
      ]
     },
     "execution_count": 195,
     "metadata": {},
     "output_type": "execute_result"
    }
   ],
   "source": [
    "resenia"
   ]
  }
 ],
 "metadata": {
  "kernelspec": {
   "display_name": "langchain",
   "language": "python",
   "name": "python3"
  },
  "language_info": {
   "codemirror_mode": {
    "name": "ipython",
    "version": 3
   },
   "file_extension": ".py",
   "mimetype": "text/x-python",
   "name": "python",
   "nbconvert_exporter": "python",
   "pygments_lexer": "ipython3",
   "version": "3.10.16"
  }
 },
 "nbformat": 4,
 "nbformat_minor": 5
}
