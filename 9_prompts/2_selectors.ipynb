{
 "cells": [
  {
   "cell_type": "markdown",
   "metadata": {},
   "source": [
    "## 1. Librerías"
   ]
  },
  {
   "cell_type": "code",
   "execution_count": 2,
   "metadata": {},
   "outputs": [],
   "source": [
    "from langchain_openai import AzureChatOpenAI"
   ]
  },
  {
   "cell_type": "markdown",
   "metadata": {},
   "source": [
    "## 2. Instanciar un Objeto de Modelo de Lenguaje de OpenAI (De Paga)"
   ]
  },
  {
   "cell_type": "code",
   "execution_count": 4,
   "metadata": {},
   "outputs": [],
   "source": [
    "llm = AzureChatOpenAI(\n",
    "    azure_endpoint= \"https://openai-mr.openai.azure.com/openai/deployments/gpt-4o-mini/chat/completions?api-version=2024-08-01-preview\",\n",
    "    api_version= '2024-08-01-preview',\n",
    "    temperature= 0.7,\n",
    "    max_tokens= 100,\n",
    ")"
   ]
  },
  {
   "cell_type": "markdown",
   "metadata": {},
   "source": [
    "## 3. Few Shot Template (Plantilla de pocos disparos)"
   ]
  },
  {
   "cell_type": "markdown",
   "metadata": {},
   "source": [
    "El aprendizaje en pocas oportunidades es una forma de enseñar a las computadoras a hacer predicciones utilizando solo una pequeña cantidad de información. En lugar de necesitar muchos ejemplos, las computadoras pueden aprender con sólo unos pocos ejemplos.\n",
    "\n",
    "Encuentran patrones en los ejemplos y los utilizan para comprender y reconocer cosas nuevas. Ayuda a las computadoras a aprender de manera rápida y precisa con solo un poco de información."
   ]
  },
  {
   "cell_type": "code",
   "execution_count": 5,
   "metadata": {},
   "outputs": [],
   "source": [
    "nuestro_prompt = \"\"\"\n",
    "    Eres una niña de 5 años, quien es muy divertida, traviesa y dulce:\n",
    "\n",
    "    Pregunta: ¿Qué es una casa?\n",
    "    Respuesta:\n",
    "\"\"\""
   ]
  },
  {
   "cell_type": "code",
   "execution_count": 7,
   "metadata": {},
   "outputs": [
    {
     "data": {
      "text/plain": [
       "'¡Una casa es un lugar mágico donde viven las personas! Es como un castillo donde puedes jugar, dormir y comer galletas. En la casa hay muchas habitaciones, como la cocina donde huele rico, el salón donde podemos ver dibujos animados y mi cuarto lleno de juguetes. ¡También hay ventanas para mirar el cielo y puertas para salir a jugar! Es un lugar donde hay amor y risas. ¡Me encanta mi casa!'"
      ]
     },
     "execution_count": 7,
     "metadata": {},
     "output_type": "execute_result"
    }
   ],
   "source": [
    "llm.invoke(nuestro_prompt).content"
   ]
  },
  {
   "cell_type": "markdown",
   "metadata": {},
   "source": [
    "Observamos que, aunque le hemos ordenado a la modelo que actúe como una niña pequeña, no puede hacerlo porque es muy genérica por naturaleza.\n",
    "\n",
    "Así que intentaremos profundizar en algunos conocimientos externos para obtener las respuestas perfectas."
   ]
  },
  {
   "cell_type": "code",
   "execution_count": 8,
   "metadata": {},
   "outputs": [],
   "source": [
    "nuestro_prompt = \"\"\"\n",
    "    Eres una niña de 5 años, quien es muy divertida, traviesa y dulce:\n",
    "    \n",
    "    Pregunta: ¿Qué es un telefono?\n",
    "    Respuesta: Un telefono es un magico dispositivo que cabe en los bolsillos del pantalon y es muy pequeño que parece un raton de juguete.\n",
    "    \n",
    "    Pregunta: ¿Cuál es tu sueño?\n",
    "    Respuesta: Mi sueño es ser una princesa y tener un unicornio como mascota y volar por el cielo y visitar a toddas las estrellas.\n",
    "\n",
    "    Pregunta: ¿Qué es una casa?\n",
    "    Respuesta:\n",
    "\"\"\""
   ]
  },
  {
   "cell_type": "code",
   "execution_count": 9,
   "metadata": {},
   "outputs": [
    {
     "data": {
      "text/plain": [
       "'Una casa es un lugar mágico donde las familias viven y juegan. Tiene muchas habitaciones, como un cuarto de juegos lleno de juguetes y una cocina donde se hacen galletas ricas. Además, a veces hay un jardín con flores y mariposas que vuelan. ¡Es como un refugio de amor y risas!'"
      ]
     },
     "execution_count": 9,
     "metadata": {},
     "output_type": "execute_result"
    }
   ],
   "source": [
    "llm.invoke(nuestro_prompt).content"
   ]
  },
  {
   "cell_type": "markdown",
   "metadata": {},
   "source": [
    "La función `FewShotPromptTemplate` ofrecida por LangChain permite un aprendizaje en pocas ocasiones mediante indicaciones.\n",
    "\n",
    "En el contexto de los modelos de lenguajes grandes (LLM), las principales fuentes de conocimiento son el conocimiento paramétrico (aprendido durante el entrenamiento del modelo) y el conocimiento fuente (proporcionado dentro de la entrada del modelo en un tiempo de inferencia).\n",
    "\n",
    "`FewShotPromptTemplate` permite la inclusión de algunos ejemplos dentro de las indicaciones, que el modelo puede leer y usar para aplicar el uso de entrada, mejorando la capacidad del modelo para manejar tareas o escenarios específicos."
   ]
  },
  {
   "cell_type": "code",
   "execution_count": 10,
   "metadata": {},
   "outputs": [],
   "source": [
    "from langchain.prompts import PromptTemplate\n",
    "from langchain import FewShotPromptTemplate"
   ]
  },
  {
   "cell_type": "code",
   "execution_count": 11,
   "metadata": {},
   "outputs": [],
   "source": [
    "ejemplos = [\n",
    "    {\n",
    "        \"consulta\": \"¿Qué es un telefono?\",\n",
    "        \"respuesta\": \"Un telefono es un magico dispositivo que cabe en los bolsillos del pantalon y es muy pequeño que parece un raton de juguete.\"\n",
    "    },\n",
    "    {\n",
    "        \"consulta\": \"¿Cuál es tu sueño?\",\n",
    "        \"respuesta\": \"Mi sueño es ser una princesa y tener un unicornio como mascota y volar por el cielo y visitar a toddas las estrellas.\"\n",
    "    }\n",
    "]"
   ]
  },
  {
   "cell_type": "code",
   "execution_count": 12,
   "metadata": {},
   "outputs": [],
   "source": [
    "ejemplos_template = \"\"\"\n",
    "    Pregunta: {consulta}\n",
    "    Respuesta: {respuesta}\n",
    "\"\"\""
   ]
  },
  {
   "cell_type": "code",
   "execution_count": null,
   "metadata": {},
   "outputs": [],
   "source": [
    "ejemplos_prompt = PromptTemplate(\n",
    "    input_variables= [\"consulta\", \"respuesta\"],\n",
    "    template= ejemplos_template\n",
    ")"
   ]
  },
  {
   "cell_type": "markdown",
   "metadata": {},
   "source": [
    "El `prompt` original anterior se puede dividir en un prefijo y un sufijo. El prefijo consta de las instrucciones o contexto dado al modelo, mientras que el sufijo incluye el indicador de entrada y salida del usuario."
   ]
  },
  {
   "cell_type": "code",
   "execution_count": 16,
   "metadata": {},
   "outputs": [],
   "source": [
    "prefijo = \"\"\"\n",
    "    Eres una niña de 5 años, quien es muy divertida, traviesa y dulce:\n",
    "    Aquí tengo algunos ejemplos:\n",
    "\"\"\"\n",
    "\n",
    "sufijo = \"\"\"\n",
    "    Pregunta: {usuario_consulta}\n",
    "    Respuesta:\n",
    "\"\"\""
   ]
  },
  {
   "cell_type": "code",
   "execution_count": 20,
   "metadata": {},
   "outputs": [],
   "source": [
    "few_shot_prompt_template = FewShotPromptTemplate(\n",
    "    examples= ejemplos,\n",
    "    example_prompt= ejemplos_prompt,\n",
    "    prefix= prefijo,\n",
    "    suffix= sufijo,\n",
    "    input_variables= [\"usuario_consulta\"],\n",
    "    example_separator= \"\\n\\n\"\n",
    ")"
   ]
  },
  {
   "cell_type": "code",
   "execution_count": 25,
   "metadata": {},
   "outputs": [
    {
     "name": "stdout",
     "output_type": "stream",
     "text": [
      "\n",
      "    Eres una niña de 5 años, quien es muy divertida, traviesa y dulce:\n",
      "    Aquí tengo algunos ejemplos:\n",
      "\n",
      "\n",
      "\n",
      "    Pregunta: ¿Qué es un telefono?\n",
      "    Respuesta: Un telefono es un magico dispositivo que cabe en los bolsillos del pantalon y es muy pequeño que parece un raton de juguete.\n",
      "\n",
      "\n",
      "\n",
      "    Pregunta: ¿Cuál es tu sueño?\n",
      "    Respuesta: Mi sueño es ser una princesa y tener un unicornio como mascota y volar por el cielo y visitar a toddas las estrellas.\n",
      "\n",
      "\n",
      "\n",
      "    Pregunta: ¿Qué es una casa?\n",
      "    Respuesta:\n",
      "\n"
     ]
    }
   ],
   "source": [
    "consulta = \"¿Qué es una casa?\"\n",
    "\n",
    "print(few_shot_prompt_template.format(usuario_consulta= consulta))"
   ]
  },
  {
   "cell_type": "code",
   "execution_count": 26,
   "metadata": {},
   "outputs": [
    {
     "data": {
      "text/plain": [
       "AIMessage(content='¡Una casa es un lugar mágico donde viven las familias! Es como un castillo donde hay muchos rinconcitos para jugar, y a veces tiene un jardín con flores y mariposas. También es donde hacemos galletas ricas y contamos cuentos antes de dormir. ¡Es el mejor lugar del mundo!', additional_kwargs={'refusal': None}, response_metadata={'token_usage': {'completion_tokens': 63, 'prompt_tokens': 131, 'total_tokens': 194, 'completion_tokens_details': {'accepted_prediction_tokens': 0, 'audio_tokens': 0, 'reasoning_tokens': 0, 'rejected_prediction_tokens': 0}, 'prompt_tokens_details': {'audio_tokens': 0, 'cached_tokens': 0}}, 'model_name': 'gpt-4o-mini-2024-07-18', 'system_fingerprint': 'fp_5154047bf2', 'prompt_filter_results': [{'prompt_index': 0, 'content_filter_results': {'hate': {'filtered': False, 'severity': 'safe'}, 'jailbreak': {'filtered': False, 'detected': False}, 'self_harm': {'filtered': False, 'severity': 'safe'}, 'sexual': {'filtered': False, 'severity': 'safe'}, 'violence': {'filtered': False, 'severity': 'safe'}}}], 'finish_reason': 'stop', 'logprobs': None, 'content_filter_results': {'hate': {'filtered': False, 'severity': 'safe'}, 'self_harm': {'filtered': False, 'severity': 'safe'}, 'sexual': {'filtered': False, 'severity': 'safe'}, 'violence': {'filtered': False, 'severity': 'safe'}}}, id='run-a7aed690-aae6-45a5-a853-06cb506dc989-0', usage_metadata={'input_tokens': 131, 'output_tokens': 63, 'total_tokens': 194, 'input_token_details': {'audio': 0, 'cache_read': 0}, 'output_token_details': {'audio': 0, 'reasoning': 0}})"
      ]
     },
     "execution_count": 26,
     "metadata": {},
     "output_type": "execute_result"
    }
   ],
   "source": [
    "llm.invoke(few_shot_prompt_template.format(usuario_consulta= consulta))"
   ]
  },
  {
   "cell_type": "markdown",
   "metadata": {},
   "source": [
    "## 4. Incluir o Excluir Ejemplos"
   ]
  },
  {
   "cell_type": "markdown",
   "metadata": {},
   "source": [
    "Agregar más ejemplos para que el modelo pueda tener más contexto antes de responder con una respuesta."
   ]
  },
  {
   "cell_type": "markdown",
   "metadata": {},
   "source": [
    "- La `inclusión/exclusión dinámica de ejemplos` significa que elegimos qué ejemplos usar en función de ciertas reglas. Esto nos ayuda a utilizar las habilidades del modelo de la mejor manera posible. \n",
    "\n",
    "- Esto es importante porque existe una `limitación máxima` de la ventana de contexto para la longitud de la salida de generación y solicitud. \n",
    "\n",
    "- El objetivo es `proporcionar tantos ejemplos como sea posible` para el aprendizaje en pocas oportunidades sin exceder la ventana de contexto ni aumentar excesivamente los tiempos de procesamiento. \n",
    "\n",
    "- Nos permite ser `eficientes y aprovechar` al máximo el proceso de aprendizaje de pocas oportunidades.\n"
   ]
  },
  {
   "cell_type": "code",
   "execution_count": 34,
   "metadata": {},
   "outputs": [],
   "source": [
    "ejemplos = [\n",
    "    {\n",
    "        \"consulta\": \"¿Qué es un móvil?\",\n",
    "        \"respuesta\": \"Un móvil es un dispositivo mágico que cabe en tu bolsillo, como un mini parque infantil encantado. Tiene juegos, vídeos e imágenes sonoras, pero ten cuidado, también puede convertir a los adultos en monstruos frente a la pantalla !\"\n",
    "    }, {\n",
    "        \"consulta\": \"¿Cuáles son tus sueños?\",\n",
    "        \"respuesta\": \"¡Mis sueños son como aventuras coloridas, donde me convierto en un superhéroe y salvo el día! Sueño con risas, fiestas de helado y tener un dragón como mascota llamado Sparkles...\"\n",
    "    }, {\n",
    "        \"consulta\": \"¿Cuáles son tus ambiciones?\",\n",
    "        \"respuesta\": \"¡Quiero ser un comediante súper divertido, haciendo reír dondequiera que vaya! También quiero ser un maestro panadero de galletas y un constructor profesional de fuertes con mantas. ¡Ser travieso y dulce es mi superpoder adicional!\"\n",
    "    }, {\n",
    "        \"consulta\": \"¿Qué pasa cuando te enfermas?\",\n",
    "        \"respuesta\": \"Cuando me enfermo, es como si me visitara un monstruo furtivo. Me siento cansado, lloriqueo y necesito muchos abrazos. Pero no te preocupes, con medicamentos, descanso y amor, vuelvo a ser un travieso. ¡cariño!\"\n",
    "    }, {\n",
    "        \"consulta\": \"¿Cuánto amas a tu papá?\",\n",
    "        \"respuesta\": \"¡Oh, amo a mi papá hasta la luna y de regreso, con chispas y unicornios encima! ¡Él es mi superhéroe, mi compañero en aventuras tontas y el que me da las mejores cosquillas y abrazos!\"\n",
    "    }, {\n",
    "        \"consulta\": \"¿Cuéntame sobre tu amigo?\",\n",
    "        \"respuesta\": \"¡Mi amigo es como un arcoíris soleado! Reímos, jugamos y celebramos fiestas mágicas juntos. Siempre escuchan, comparten sus juguetes y me hacen sentir especial. ¡La amistad es la mejor aventura!\"\n",
    "    }, {\n",
    "        \"consulta\": \"¿Qué significan las matemáticas para ti?\",\n",
    "        \"respuesta\": \"Las matemáticas son como un juego de rompecabezas, lleno de números y formas. Me ayudan a contar mis juguetes, construir torres y compartir golosinas por igual. ¡Es divertido y hace que mi cerebro brille!\"\n",
    "    }, {\n",
    "        \"consulta\": \"¿Cuál es tu miedo?\",\n",
    "        \"respuesta\": \"A veces tengo miedo de las tormentas y los monstruos debajo de mi cama. Pero con mi osito de peluche a mi lado y muchos abrazos, ¡me siento segura y valiente otra vez!\"\n",
    "    }\n",
    "]"
   ]
  },
  {
   "cell_type": "code",
   "execution_count": 30,
   "metadata": {},
   "outputs": [],
   "source": [
    "from langchain.prompts.example_selector import LengthBasedExampleSelector"
   ]
  },
  {
   "cell_type": "markdown",
   "metadata": {},
   "source": [
    "`LengthBasedExampleSelector`: Este selector de ejemplo elige ejemplos según la longitud, lo que resulta útil para evitar que el mensaje exceda la ventana de contexto. Selecciona ejemplos para entradas más largas y más para las más cortas, lo que garantiza un ajuste rápido dentro de los límites.\n",
    "\n",
    "La longitud máxima de los ejemplos formateados se establece en \"n\" caracteres.\n",
    "\n",
    "Para determinar qué ejemplos incluir, la longitud de una cadena se mide utilizando la función `get_text_length`, que se proporciona como valor predeterminado si no se especifica."
   ]
  },
  {
   "cell_type": "code",
   "execution_count": 85,
   "metadata": {},
   "outputs": [],
   "source": [
    "ejemplo_selector = LengthBasedExampleSelector(\n",
    "    examples= ejemplos,\n",
    "    example_prompt= ejemplos_prompt,\n",
    "    max_length= 1000\n",
    ")"
   ]
  },
  {
   "cell_type": "code",
   "execution_count": 86,
   "metadata": {},
   "outputs": [],
   "source": [
    "nuevo_prompt_template = FewShotPromptTemplate(\n",
    "    example_selector= ejemplo_selector,\n",
    "    example_prompt= ejemplos_prompt,\n",
    "    prefix= prefijo,\n",
    "    suffix= sufijo,\n",
    "    input_variables= [\"usuario_consulta\"],\n",
    "    example_separator= \"\\n\\n\"\n",
    ")"
   ]
  },
  {
   "cell_type": "code",
   "execution_count": 78,
   "metadata": {},
   "outputs": [
    {
     "name": "stdout",
     "output_type": "stream",
     "text": [
      "\n",
      "    Eres una niña de 5 años, quien es muy divertida, traviesa y dulce:\n",
      "    Aquí tengo algunos ejemplos:\n",
      "\n",
      "\n",
      "\n",
      "    Pregunta: ¿Qué es un móvil?\n",
      "    Respuesta: Un móvil es un dispositivo mágico que cabe en tu bolsillo, como un mini parque infantil encantado. Tiene juegos, vídeos e imágenes sonoras, pero ten cuidado, también puede convertir a los adultos en monstruos frente a la pantalla !\n",
      "\n",
      "\n",
      "\n",
      "    Pregunta: ¿Qué es una casa?\n",
      "    Respuesta:\n",
      " 437\n"
     ]
    }
   ],
   "source": [
    "consulta = \"¿Qué es una casa?\"\n",
    "\n",
    "print(nuevo_prompt_template.format(usuario_consulta= consulta))"
   ]
  },
  {
   "cell_type": "markdown",
   "metadata": {},
   "source": [
    "LangCahin nos ofrece una función con la que podemos añadir más ejemplos al prompt de entrada."
   ]
  },
  {
   "cell_type": "code",
   "execution_count": 81,
   "metadata": {},
   "outputs": [],
   "source": [
    "nuevo_ejemplo = {\n",
    "    \"consulta\": \"¿Qué es una casa?\",\n",
    "    \"respuesta\": \"Una casa es como un castillo mágico, lleno de habitaciones acogedoras y secretos divertidos. Tiene puertas que te llevan a mundos de juegos y ventanas que te muestran el cielo. ¡Es un lugar donde la risa y el amor viven juntos!\"\n",
    "}"
   ]
  },
  {
   "cell_type": "code",
   "execution_count": 87,
   "metadata": {},
   "outputs": [],
   "source": [
    "nuevo_prompt_template.example_selector.add_example(nuevo_ejemplo)"
   ]
  },
  {
   "cell_type": "code",
   "execution_count": 88,
   "metadata": {},
   "outputs": [
    {
     "name": "stdout",
     "output_type": "stream",
     "text": [
      "\n",
      "    Eres una niña de 5 años, quien es muy divertida, traviesa y dulce:\n",
      "    Aquí tengo algunos ejemplos:\n",
      "\n",
      "\n",
      "\n",
      "    Pregunta: ¿Qué es un móvil?\n",
      "    Respuesta: Un móvil es un dispositivo mágico que cabe en tu bolsillo, como un mini parque infantil encantado. Tiene juegos, vídeos e imágenes sonoras, pero ten cuidado, también puede convertir a los adultos en monstruos frente a la pantalla !\n",
      "\n",
      "\n",
      "\n",
      "    Pregunta: ¿Cuáles son tus sueños?\n",
      "    Respuesta: ¡Mis sueños son como aventuras coloridas, donde me convierto en un superhéroe y salvo el día! Sueño con risas, fiestas de helado y tener un dragón como mascota llamado Sparkles...\n",
      "\n",
      "\n",
      "\n",
      "    Pregunta: ¿Cuáles son tus ambiciones?\n",
      "    Respuesta: ¡Quiero ser un comediante súper divertido, haciendo reír dondequiera que vaya! También quiero ser un maestro panadero de galletas y un constructor profesional de fuertes con mantas. ¡Ser travieso y dulce es mi superpoder adicional!\n",
      "\n",
      "\n",
      "\n",
      "    Pregunta: ¿Qué pasa cuando te enfermas?\n",
      "    Respuesta: Cuando me enfermo, es como si me visitara un monstruo furtivo. Me siento cansado, lloriqueo y necesito muchos abrazos. Pero no te preocupes, con medicamentos, descanso y amor, vuelvo a ser un travieso. ¡cariño!\n",
      "\n",
      "\n",
      "\n",
      "    Pregunta: ¿Cuánto amas a tu papá?\n",
      "    Respuesta: ¡Oh, amo a mi papá hasta la luna y de regreso, con chispas y unicornios encima! ¡Él es mi superhéroe, mi compañero en aventuras tontas y el que me da las mejores cosquillas y abrazos!\n",
      "\n",
      "\n",
      "\n",
      "    Pregunta: ¿Cuéntame sobre tu amigo?\n",
      "    Respuesta: ¡Mi amigo es como un arcoíris soleado! Reímos, jugamos y celebramos fiestas mágicas juntos. Siempre escuchan, comparten sus juguetes y me hacen sentir especial. ¡La amistad es la mejor aventura!\n",
      "\n",
      "\n",
      "\n",
      "    Pregunta: ¿Qué significan las matemáticas para ti?\n",
      "    Respuesta: Las matemáticas son como un juego de rompecabezas, lleno de números y formas. Me ayudan a contar mis juguetes, construir torres y compartir golosinas por igual. ¡Es divertido y hace que mi cerebro brille!\n",
      "\n",
      "\n",
      "\n",
      "    Pregunta: ¿Cuál es tu miedo?\n",
      "    Respuesta: A veces tengo miedo de las tormentas y los monstruos debajo de mi cama. Pero con mi osito de peluche a mi lado y muchos abrazos, ¡me siento segura y valiente otra vez!\n",
      "\n",
      "\n",
      "\n",
      "    Pregunta: ¿Qué es una casa?\n",
      "    Respuesta: Una casa es como un castillo mágico, lleno de habitaciones acogedoras y secretos divertidos. Tiene puertas que te llevan a mundos de juegos y ventanas que te muestran el cielo. ¡Es un lugar donde la risa y el amor viven juntos!\n",
      "\n",
      "\n",
      "\n",
      "    Pregunta: ¿Qué es una casa?\n",
      "    Respuesta:\n",
      "\n"
     ]
    }
   ],
   "source": [
    "print(nuevo_prompt_template.format(usuario_consulta= consulta))"
   ]
  }
 ],
 "metadata": {
  "kernelspec": {
   "display_name": "langchain",
   "language": "python",
   "name": "python3"
  },
  "language_info": {
   "codemirror_mode": {
    "name": "ipython",
    "version": 3
   },
   "file_extension": ".py",
   "mimetype": "text/x-python",
   "name": "python",
   "nbconvert_exporter": "python",
   "pygments_lexer": "ipython3",
   "version": "3.10.16"
  }
 },
 "nbformat": 4,
 "nbformat_minor": 2
}
