{
 "cells": [
  {
   "cell_type": "markdown",
   "metadata": {},
   "source": [
    "# Uso de Google Gemini Pro (versión gratuita)"
   ]
  },
  {
   "cell_type": "markdown",
   "metadata": {},
   "source": [
    "Recientemente, Google presentó Gemini, su modelo de inteligencia artificial de vanguardia. Gemini se erige como otro modelo de lenguaje grande diseñado con sólidas capacidades multimodales. Este nuevo LLM afirma superioridad sobre su rival GPT-4 en varios frentes. Viene en tres variantes: *Nano*, *Pro* y *Ultra*.\n",
    "\n",
    "La API de Gemini estuvo disponible para los desarrolladores el 13 de diciembre. Utilice el plan gratuito predeterminado y no utilice ningún método de pago para evitar la facturación del proyecto."
   ]
  },
  {
   "cell_type": "markdown",
   "metadata": {},
   "source": [
    "## 1. Generando la Clave API de Gemini"
   ]
  },
  {
   "cell_type": "markdown",
   "metadata": {},
   "source": [
    "1. Navegue hasta la página Google AI para desarrolladores y haga clic en el botón Obtener clave API en Google AI Studio.\n",
    "\n",
    "2. En la siguiente pantalla, se le pedirá que inicie sesión con su cuenta de Google para continuar. Una vez que haya iniciado sesión correctamente, accederá al panel de control de Google AI Studio.\n",
    "\n",
    "3. Si este es su primer intento de iniciar sesión, se le pedirá que acepte ciertos términos antes de continuar. Simplemente elija los relevantes y luego continúe haciendo clic en \"Continuar\".\n",
    "\n",
    "4. Ahora, en la ventana emergente Build with Gemini, puede hacer clic en el botón Obtener clave API para continuar.\n",
    "\n",
    "5. A continuación, en el panel de claves API, haga clic en el botón Crear clave API en un nuevo proyecto y espere hasta que se genere la clave.\n",
    "\n",
    "6. Ahora puede copiar la nueva clave API de la ventana emergente y almacenarla de forma segura para poder usarla más tarde."
   ]
  },
  {
   "cell_type": "markdown",
   "metadata": {},
   "source": [
    "## 2. Librerías"
   ]
  },
  {
   "cell_type": "code",
   "execution_count": 1,
   "metadata": {},
   "outputs": [],
   "source": [
    "# !pip install langchain-google-genai"
   ]
  },
  {
   "cell_type": "markdown",
   "metadata": {},
   "source": [
    "Podemos acceder a los modelos `gemini` y `gemini-vision` de Google AI, así como a otros modelos generativos.\n",
    "\n",
    "A través de la clase `ChatGoogleGenerativeAI` en el paquete de integración `langchain-google-genai`."
   ]
  },
  {
   "cell_type": "code",
   "execution_count": 2,
   "metadata": {},
   "outputs": [],
   "source": [
    "from langchain_google_genai import ChatGoogleGenerativeAI"
   ]
  },
  {
   "cell_type": "markdown",
   "metadata": {},
   "source": [
    "## 3. Instanciar un Objeto de Modelo de Lenguaje de Google"
   ]
  },
  {
   "cell_type": "code",
   "execution_count": 3,
   "metadata": {},
   "outputs": [],
   "source": [
    "llm = ChatGoogleGenerativeAI(\n",
    "    model= 'gemini-pro'\n",
    ")"
   ]
  },
  {
   "cell_type": "code",
   "execution_count": 4,
   "metadata": {},
   "outputs": [],
   "source": [
    "our_query = \"¿Cuál es la moneda del Perú?\"\n",
    "\n",
    "response = llm.invoke(our_query)"
   ]
  },
  {
   "cell_type": "code",
   "execution_count": 5,
   "metadata": {},
   "outputs": [
    {
     "data": {
      "text/plain": [
       "'Sol peruano (PEN)'"
      ]
     },
     "execution_count": 5,
     "metadata": {},
     "output_type": "execute_result"
    }
   ],
   "source": [
    "response.content"
   ]
  }
 ],
 "metadata": {
  "kernelspec": {
   "display_name": "langchain",
   "language": "python",
   "name": "python3"
  },
  "language_info": {
   "codemirror_mode": {
    "name": "ipython",
    "version": 3
   },
   "file_extension": ".py",
   "mimetype": "text/x-python",
   "name": "python",
   "nbconvert_exporter": "python",
   "pygments_lexer": "ipython3",
   "version": "3.10.16"
  }
 },
 "nbformat": 4,
 "nbformat_minor": 2
}
